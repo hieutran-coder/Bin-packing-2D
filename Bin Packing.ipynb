{
 "cells": [
  {
   "cell_type": "code",
   "execution_count": 4,
   "id": "e886ee19",
   "metadata": {},
   "outputs": [],
   "source": [
    "from ortools.linear_solver import pywraplp"
   ]
  },
  {
   "cell_type": "code",
   "execution_count": 15,
   "id": "73514257",
   "metadata": {},
   "outputs": [],
   "source": [
    "def create_data_model():\n",
    "    \"\"\"Ví dụ này sẽ tạo 1 the data\"\"\"\n",
    "    data = {}\n",
    "    weights = [48, 30, 19, 36, 36, 27, 42, 42, 36, 24, 30]\n",
    "    data['weights'] = weights\n",
    "    data['items'] = list(range(len(weights)))\n",
    "    data['bins'] = data['items']\n",
    "    data['bin_capacity'] = 100\n",
    "    return data"
   ]
  },
  {
   "cell_type": "code",
   "execution_count": 17,
   "id": "791e0305",
   "metadata": {},
   "outputs": [],
   "source": [
    "# Tao the mip solver with the SCIP backend.\n",
    "solver = pywraplp.Solver.CreateSolver('SCIP')\n",
    "data = create_data_model()"
   ]
  },
  {
   "cell_type": "code",
   "execution_count": 18,
   "id": "f0789958",
   "metadata": {},
   "outputs": [],
   "source": [
    "# Variables\n",
    "# x[i,j] = 0 nếu item i được cất ở trên bin j.\n",
    "x = {}\n",
    "for i in data['items']:\n",
    "    for j in data['bins']:\n",
    "        x[(i,j)] = solver.IntVar(0, 1, 'x_%i_%i' % (i, j))\n",
    "#y[j] = 1 nếu bin j được sử dụng\n",
    "y = {}\n",
    "for j in data['bins']:\n",
    "    y[j] = solver.IntVar(0, 1, 'y[%i]' % j)"
   ]
  },
  {
   "cell_type": "code",
   "execution_count": 21,
   "id": "6abf2c1f",
   "metadata": {},
   "outputs": [],
   "source": [
    "# Rằng buộc:\n",
    "# Mỗi items chỉ được đặt, phải đặt đúng 1 bin.\n",
    "for i in data['items']:\n",
    "    solver.Add(sum(x[i,j] for j in data['bins']) == 1)\n",
    "# Số lượng đồ được đặt ở mỗi bin ko vượt quá trọng tải của bin đó\n",
    "for j in data['bins']:\n",
    "    solver.Add(\n",
    "        sum(x[i,j]*data['weights'][i] for i in data['items']) <= y[j]*data[\"bin_capacity\"])"
   ]
  },
  {
   "cell_type": "code",
   "execution_count": 33,
   "id": "6551372b",
   "metadata": {},
   "outputs": [],
   "source": [
    "# objective minimize the number of bins used\n",
    "solver.Minimize(solver.Sum(y[j] for j in data['bins']))"
   ]
  },
  {
   "cell_type": "code",
   "execution_count": 34,
   "id": "e49b79ec",
   "metadata": {},
   "outputs": [
    {
     "name": "stdout",
     "output_type": "stream",
     "text": [
      "bin so may 0\n",
      " nhung item nao packed [0, 1, 2]\n",
      " Total weight: 97\n",
      "\n",
      "bin so may 1\n",
      " nhung item nao packed [3, 4, 5]\n",
      " Total weight: 99\n",
      "\n",
      "bin so may 2\n",
      " nhung item nao packed [6, 7]\n",
      " Total weight: 84\n",
      "\n",
      "bin so may 3\n",
      " nhung item nao packed [8, 9, 10]\n",
      " Total weight: 90\n",
      "\n",
      "\n",
      "so luong bin su dung: 4.0\n",
      "Thoi =  1008545 miliseconds\n"
     ]
    }
   ],
   "source": [
    "status = solver.Solve()\n",
    "if status == pywraplp.Solver.OPTIMAL:\n",
    "    num_bins = 0.\n",
    "    for j in data['bins']:\n",
    "        if y[j].solution_value() == 1:\n",
    "            bin_items = []\n",
    "            bin_weight = 0\n",
    "            for i in data['items']:\n",
    "                if x[i, j].solution_value() > 0:\n",
    "                    bin_items.append(i)\n",
    "                    bin_weight += data['weights'][i]\n",
    "            if bin_weight > 0:\n",
    "                num_bins += 1\n",
    "                print('bin so may', j)\n",
    "                print(' nhung item nao packed', bin_items)\n",
    "                print(' Total weight:' , bin_weight)\n",
    "                print()\n",
    "    print()\n",
    "    print('so luong bin su dung:', num_bins)\n",
    "    print('Thoi = ', solver.WallTime(),'miliseconds')\n",
    "else:\n",
    "    print('Bai toan ko co nghiem toi uu')\n"
   ]
  },
  {
   "cell_type": "code",
   "execution_count": null,
   "id": "bd9833f8",
   "metadata": {},
   "outputs": [],
   "source": []
  }
 ],
 "metadata": {
  "kernelspec": {
   "display_name": "Python 3",
   "language": "python",
   "name": "python3"
  },
  "language_info": {
   "codemirror_mode": {
    "name": "ipython",
    "version": 3
   },
   "file_extension": ".py",
   "mimetype": "text/x-python",
   "name": "python",
   "nbconvert_exporter": "python",
   "pygments_lexer": "ipython3",
   "version": "3.8.8"
  }
 },
 "nbformat": 4,
 "nbformat_minor": 5
}
