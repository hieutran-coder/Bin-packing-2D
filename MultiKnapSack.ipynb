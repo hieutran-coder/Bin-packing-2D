{
 "cells": [
  {
   "cell_type": "code",
   "execution_count": 1,
   "id": "8812c488",
   "metadata": {},
   "outputs": [],
   "source": [
    "from ortools.linear_solver import pywraplp"
   ]
  },
  {
   "cell_type": "code",
   "execution_count": 6,
   "id": "eadc9bf1",
   "metadata": {},
   "outputs": [],
   "source": [
    "def create_data_model():\n",
    "    data = {}\n",
    "    weights =  [48, 30, 42, 36, 36, 48, 42, 42, 36, 24, 30, 30, 42, 36, 36]\n",
    "    values = [10, 30, 25, 50, 35, 30, 15, 40, 30, 35, 45, 10, 20, 30, 25]\n",
    "    data['weights'] = weights\n",
    "    data['values'] = values\n",
    "    data['items'] = list(range(len(weights)))\n",
    "    data['num_items'] = len(weights)\n",
    "    \n",
    "    num_bins = 5\n",
    "    \n",
    "    data['bins'] = list(range(num_bins))\n",
    "    data['bin_capacities'] = [100, 100, 100, 100, 100]\n",
    "    return data\n",
    "    \n",
    "    # do we need much of array, can eliminate little of them?.\n",
    "    "
   ]
  },
  {
   "cell_type": "code",
   "execution_count": 9,
   "id": "22fe7d43",
   "metadata": {},
   "outputs": [],
   "source": [
    "# Tao solver Mip vs SCIP backend: Backend la gi?\n",
    "solver = pywraplp.Solver.CreateSolver('SCIP')\n",
    "data = create_data_model()"
   ]
  },
  {
   "cell_type": "code",
   "execution_count": 14,
   "id": "f88be38f",
   "metadata": {},
   "outputs": [],
   "source": [
    "# Variables, khi nao dung cach MHH nhu the nay nhi?. THuoc hay ko thuoc. co the dung y tuong nay cho packing nhi?\n",
    "# x[i, j] = 1 if item i is packed in bin j.\n",
    "# nguocj lai = 0 neu bin j ko chua item i phai ko?\n",
    "# Dan bao 1 dong chi co 1 so 1 thoi nhi?\n",
    "x = {}\n",
    "for i in data['items']:\n",
    "    for j in data['bins']:\n",
    "        x[(i,j)] = solver.IntVar(0, 1, 'x_%i_%i' % (i, j))"
   ]
  },
  {
   "cell_type": "code",
   "execution_count": 21,
   "id": "5b939bb5",
   "metadata": {},
   "outputs": [],
   "source": [
    "# Constraints\n",
    "# Each item can be in at most one bin.\n",
    "for i in data['items']:\n",
    "    solver.Add(sum(x[i, j] for j in data['bins']) <= 1)\n",
    "# The amount packed in each bin cannot exceed its capacity.\n",
    "for j in data['bins']:\n",
    "    solver.Add(\n",
    "        sum(x[(i, j)] * data['weights'][i]\n",
    "            for i in data['items']) <= data['bin_capacities'][j])"
   ]
  },
  {
   "cell_type": "code",
   "execution_count": 25,
   "id": "9ff95dca",
   "metadata": {},
   "outputs": [],
   "source": [
    "# Dinh nghia ham muc tieu\n",
    "\n",
    "objective = solver.Objective()\n",
    "\n",
    "for i in data['items']:\n",
    "    for j in data['bins']:\n",
    "        objective.SetCoefficient((x[i,j]), data['values'][i])\n",
    "objective.SetMaximization()"
   ]
  },
  {
   "cell_type": "code",
   "execution_count": 26,
   "id": "2a8a2173",
   "metadata": {},
   "outputs": [
    {
     "ename": "NameError",
     "evalue": "name 'status' is not defined",
     "output_type": "error",
     "traceback": [
      "\u001b[0;31m---------------------------------------------------------------------------\u001b[0m",
      "\u001b[0;31mNameError\u001b[0m                                 Traceback (most recent call last)",
      "\u001b[0;32m<ipython-input-26-db1f22f9bc58>\u001b[0m in \u001b[0;36m<module>\u001b[0;34m\u001b[0m\n\u001b[1;32m      1\u001b[0m \u001b[0msatus\u001b[0m \u001b[0;34m=\u001b[0m \u001b[0msolver\u001b[0m\u001b[0;34m.\u001b[0m\u001b[0mSolve\u001b[0m\u001b[0;34m(\u001b[0m\u001b[0;34m)\u001b[0m\u001b[0;34m\u001b[0m\u001b[0;34m\u001b[0m\u001b[0m\n\u001b[1;32m      2\u001b[0m \u001b[0;34m\u001b[0m\u001b[0m\n\u001b[0;32m----> 3\u001b[0;31m \u001b[0;32mif\u001b[0m \u001b[0mstatus\u001b[0m \u001b[0;34m==\u001b[0m \u001b[0mpywraplp\u001b[0m\u001b[0;34m.\u001b[0m\u001b[0mSolver\u001b[0m\u001b[0;34m.\u001b[0m\u001b[0mOptimal\u001b[0m\u001b[0;34m:\u001b[0m\u001b[0;34m\u001b[0m\u001b[0;34m\u001b[0m\u001b[0m\n\u001b[0m\u001b[1;32m      4\u001b[0m     \u001b[0mprint\u001b[0m\u001b[0;34m(\u001b[0m\u001b[0;34m'Ta ca value:'\u001b[0m\u001b[0;34m,\u001b[0m \u001b[0mobjective\u001b[0m\u001b[0;34m.\u001b[0m\u001b[0mValue\u001b[0m\u001b[0;34m(\u001b[0m\u001b[0;34m)\u001b[0m\u001b[0;34m)\u001b[0m\u001b[0;34m\u001b[0m\u001b[0;34m\u001b[0m\u001b[0m\n\u001b[1;32m      5\u001b[0m     \u001b[0mtotal_weight\u001b[0m \u001b[0;34m=\u001b[0m \u001b[0;36m0\u001b[0m\u001b[0;34m\u001b[0m\u001b[0;34m\u001b[0m\u001b[0m\n",
      "\u001b[0;31mNameError\u001b[0m: name 'status' is not defined"
     ]
    }
   ],
   "source": [
    "satus = solver.Solve()\n",
    "\n",
    "if status == pywraplp.Solver.Optimal:\n",
    "    print('Ta ca value:', objective.Value())\n",
    "    total_weight = 0\n",
    "    for j in data['bins']:\n",
    "        bin_weight = 0\n",
    "        bin_value = 0\n",
    "        print('Bin', j, '\\n')\n",
    "        for i in data['items']:\n",
    "            if x[i,j].solution_value() > 0:\n",
    "                print('Item', i, '-weight:', data['weights'][i], 'value:', data['values'][i])\n",
    "                bin_weight += data['weights'][i]\n",
    "                bin_value += data['values'][i]\n",
    "                \n",
    "        print('Packed bin weight:', bin_weight)\n",
    "        print('Packed bin value:', bin_value)\n",
    "        print()\n",
    "        total_weight += bin_weight\n",
    "    print('Total packed weight:', total_weight)\n",
    "else:\n",
    "    print(\" ko co nghiem toi ưu\")\n",
    "                \n",
    "                \n",
    "                \n",
    "                \n",
    "                \n",
    "                \n",
    "                \n",
    "                \n",
    "                \n",
    "                \n",
    "                \n",
    "                \n",
    "                \n",
    "                \n",
    "                "
   ]
  },
  {
   "cell_type": "code",
   "execution_count": null,
   "id": "9a2672db",
   "metadata": {},
   "outputs": [],
   "source": []
  }
 ],
 "metadata": {
  "kernelspec": {
   "display_name": "Python 3",
   "language": "python",
   "name": "python3"
  },
  "language_info": {
   "codemirror_mode": {
    "name": "ipython",
    "version": 3
   },
   "file_extension": ".py",
   "mimetype": "text/x-python",
   "name": "python",
   "nbconvert_exporter": "python",
   "pygments_lexer": "ipython3",
   "version": "3.8.8"
  }
 },
 "nbformat": 4,
 "nbformat_minor": 5
}
